{
 "cells": [
  {
   "cell_type": "markdown",
   "id": "13027900",
   "metadata": {},
   "source": [
    "# Create  tuple"
   ]
  },
  {
   "cell_type": "code",
   "execution_count": 1,
   "id": "f20c14bb",
   "metadata": {},
   "outputs": [
    {
     "name": "stdout",
     "output_type": "stream",
     "text": [
      "current tuple  ('apple', 'mango', 1, 1, 1, 2, 2, 2, 0.4, 0.4, 43, 232, 232, 98)\n"
     ]
    }
   ],
   "source": [
    "t = (\"apple\",\"mango\",1,1,1,2,2,2,.4,.4,43,232,232,98)\n",
    "print(\"current tuple \",t)"
   ]
  },
  {
   "cell_type": "code",
   "execution_count": 5,
   "id": "8d3c2972",
   "metadata": {},
   "outputs": [
    {
     "name": "stdout",
     "output_type": "stream",
     "text": [
      "lenght of tuple 14\n"
     ]
    }
   ],
   "source": [
    "# lenght\n",
    "print(\"lenght of tuple\",len(t))"
   ]
  },
  {
   "cell_type": "code",
   "execution_count": 6,
   "id": "138d84fc",
   "metadata": {},
   "outputs": [
    {
     "data": {
      "text/plain": [
       "('apple', 'mango', 1, 1, 1, 2, 2, 2, 0.4, 0.4, 43, 232, 232, 98)"
      ]
     },
     "execution_count": 6,
     "metadata": {},
     "output_type": "execute_result"
    }
   ],
   "source": [
    "# INDEXING AND SLICING\n",
    "t"
   ]
  },
  {
   "cell_type": "code",
   "execution_count": 13,
   "id": "875f7363",
   "metadata": {},
   "outputs": [
    {
     "name": "stdout",
     "output_type": "stream",
     "text": [
      "index value  mango\n"
     ]
    }
   ],
   "source": [
    "print('index value ',t[1])"
   ]
  },
  {
   "cell_type": "code",
   "execution_count": 14,
   "id": "deebdbf2",
   "metadata": {},
   "outputs": [
    {
     "name": "stdout",
     "output_type": "stream",
     "text": [
      "('mango', 1, 1, 1, 2, 2, 2, 0.4)\n"
     ]
    }
   ],
   "source": [
    "print(t[1:9])"
   ]
  },
  {
   "cell_type": "code",
   "execution_count": 15,
   "id": "9568b864",
   "metadata": {},
   "outputs": [
    {
     "name": "stdout",
     "output_type": "stream",
     "text": [
      "98\n"
     ]
    }
   ],
   "source": [
    "# last value\n",
    "print(t[-1])"
   ]
  },
  {
   "cell_type": "code",
   "execution_count": 18,
   "id": "b8588fdb",
   "metadata": {},
   "outputs": [
    {
     "name": "stdout",
     "output_type": "stream",
     "text": [
      "('apple', 'mango', 1, 1, 1, 2, 2, 2, 0.4, 0.4, 43, 232)\n"
     ]
    }
   ],
   "source": [
    "print(t[:12])"
   ]
  },
  {
   "cell_type": "code",
   "execution_count": 21,
   "id": "a09aaea8",
   "metadata": {},
   "outputs": [
    {
     "name": "stdout",
     "output_type": "stream",
     "text": [
      "BEFORE CHANGE  ('apple', 'mango', 1, 1, 1, 2, 2, 2, 0.4, 0.4, 43, 232, 232, 98)\n"
     ]
    }
   ],
   "source": [
    "# convert tuple into list\n",
    "\n",
    "print(\"BEFORE CHANGE \",t)"
   ]
  },
  {
   "cell_type": "code",
   "execution_count": 22,
   "id": "6ecdd59a",
   "metadata": {},
   "outputs": [
    {
     "data": {
      "text/plain": [
       "tuple"
      ]
     },
     "execution_count": 22,
     "metadata": {},
     "output_type": "execute_result"
    }
   ],
   "source": [
    "type(t)"
   ]
  },
  {
   "cell_type": "code",
   "execution_count": 23,
   "id": "9f604954",
   "metadata": {},
   "outputs": [],
   "source": [
    "a=list(t)"
   ]
  },
  {
   "cell_type": "code",
   "execution_count": 26,
   "id": "442a7c1e",
   "metadata": {},
   "outputs": [
    {
     "name": "stdout",
     "output_type": "stream",
     "text": [
      "AFTER CHANGE  ['apple', 'mango', 1, 1, 1, 2, 2, 2, 0.4, 0.4, 43, 232, 232, 98]\n"
     ]
    }
   ],
   "source": [
    "print(\"AFTER CHANGE \",a)"
   ]
  },
  {
   "cell_type": "markdown",
   "id": "15bbfa83",
   "metadata": {},
   "source": [
    "# TUPLE CONSTRUCTURE"
   ]
  },
  {
   "cell_type": "code",
   "execution_count": 29,
   "id": "ff3e7395",
   "metadata": {},
   "outputs": [
    {
     "name": "stdout",
     "output_type": "stream",
     "text": [
      "('hello', 'python', 23, 43, 23, 98)\n"
     ]
    },
    {
     "data": {
      "text/plain": [
       "tuple"
      ]
     },
     "execution_count": 29,
     "metadata": {},
     "output_type": "execute_result"
    }
   ],
   "source": [
    "x = tuple(('hello','python',23,43,23,98))\n",
    "print(x)\n",
    "type(x)"
   ]
  },
  {
   "cell_type": "code",
   "execution_count": 30,
   "id": "529178f7",
   "metadata": {},
   "outputs": [],
   "source": [
    "# add item but after convering tuple into list"
   ]
  },
  {
   "cell_type": "code",
   "execution_count": 42,
   "id": "9503820e",
   "metadata": {},
   "outputs": [
    {
     "name": "stdout",
     "output_type": "stream",
     "text": [
      "BEFORE CONVERT   ('mange', 'banana', 'apple', 'cherry', 'greaps')\n",
      "<class 'tuple'>\n",
      "after change   ['mange', 'banana', 'apple', 'cherry', 'greaps']\n",
      "<class 'list'>\n",
      "['mange', 'kivi', 'orenge', 'cherry', 'greaps']\n",
      "('mange', 'kivi', 'orenge', 'cherry', 'greaps')\n",
      "<class 'tuple'>\n"
     ]
    }
   ],
   "source": [
    "y = ('mange','banana','apple','cherry','greaps')\n",
    "print(\"BEFORE CONVERT  \",y)\n",
    "print(type(y))\n",
    "\n",
    "# CONVERT TUPLE INTO LIST\n",
    "\n",
    "x = list(y)\n",
    "print(\"after change  \",x)\n",
    "print(type(x))\n",
    "\n",
    "#  add into  list\n",
    "\n",
    "x[1:3] = ['kivi','orenge']\n",
    "print(x)\n",
    "\n",
    "# convert into tuple\n",
    "\n",
    "t = tuple(x)\n",
    "print(t)\n",
    "print(type(t))"
   ]
  },
  {
   "cell_type": "code",
   "execution_count": 43,
   "id": "39f14d14",
   "metadata": {},
   "outputs": [
    {
     "name": "stdout",
     "output_type": "stream",
     "text": [
      "css\n",
      "html\n",
      "python\n",
      "javascript\n",
      "c\n",
      "c++\n"
     ]
    }
   ],
   "source": [
    "# LOOP WITH TUPLE\n",
    "\n",
    "#for loop\n",
    "\n",
    "t1 = ('css','html','python','javascript','c','c++')\n",
    "for i in t1:\n",
    "    print(i)"
   ]
  },
  {
   "cell_type": "code",
   "execution_count": 44,
   "id": "b9c5bd05",
   "metadata": {},
   "outputs": [
    {
     "data": {
      "text/plain": [
       "('css', 'html', 'python', 'javascript', 'c', 'c++')"
      ]
     },
     "execution_count": 44,
     "metadata": {},
     "output_type": "execute_result"
    }
   ],
   "source": [
    "# while loop\n",
    "\n",
    "t1"
   ]
  },
  {
   "cell_type": "code",
   "execution_count": 50,
   "id": "2a21b88d",
   "metadata": {},
   "outputs": [
    {
     "name": "stdout",
     "output_type": "stream",
     "text": [
      "css\n",
      "html\n",
      "python\n",
      "javascript\n",
      "c\n",
      "c++\n",
      "\n",
      "LOOP FINISH\n"
     ]
    }
   ],
   "source": [
    "t1 = ('css','html','python','javascript','c','c++')\n",
    "i=0\n",
    "while i<len(t1):\n",
    "    print(t1[i])\n",
    "    i=i+1\n",
    "else:\n",
    "    print()\n",
    "    print(\"LOOP FINISH\")"
   ]
  },
  {
   "cell_type": "code",
   "execution_count": 60,
   "id": "5835c73d",
   "metadata": {},
   "outputs": [
    {
     "name": "stdout",
     "output_type": "stream",
     "text": [
      "False\n",
      "True\n",
      "False\n"
     ]
    }
   ],
   "source": [
    "# HOW TO CAMPARE TUPLE\n",
    "\n",
    "t1=(1,2,3,4)\n",
    "t2=(5,6,7,8)\n",
    "\n",
    "# tuple1 is equal to tuple2\n",
    "\n",
    "print(t1==t2)\n",
    "  \n",
    "    # not equal \n",
    "print(t1!=t2)\n",
    "\n",
    "# less and more\n",
    "\n",
    "print(t1>t2)"
   ]
  },
  {
   "cell_type": "code",
   "execution_count": 2,
   "id": "94151ae2",
   "metadata": {},
   "outputs": [
    {
     "name": "stdout",
     "output_type": "stream",
     "text": [
      "(1, 2, 3, 4, 5, 6, 7, 8)\n",
      "<class 'tuple'>\n"
     ]
    }
   ],
   "source": [
    "a =(1,2,3,4,5,6,7,8)\n",
    "print(a)\n",
    "print(type(a))"
   ]
  },
  {
   "cell_type": "code",
   "execution_count": 3,
   "id": "77b5ece9",
   "metadata": {},
   "outputs": [
    {
     "name": "stdout",
     "output_type": "stream",
     "text": [
      "[1, 2, 3, 4, 5, 6, 7, 8]\n",
      "<class 'list'>\n"
     ]
    }
   ],
   "source": [
    "b=list(a)\n",
    "print(b)\n",
    "print(type(b))\n"
   ]
  },
  {
   "cell_type": "code",
   "execution_count": null,
   "id": "de29103c",
   "metadata": {},
   "outputs": [],
   "source": []
  }
 ],
 "metadata": {
  "kernelspec": {
   "display_name": "Python 3 (ipykernel)",
   "language": "python",
   "name": "python3"
  },
  "language_info": {
   "codemirror_mode": {
    "name": "ipython",
    "version": 3
   },
   "file_extension": ".py",
   "mimetype": "text/x-python",
   "name": "python",
   "nbconvert_exporter": "python",
   "pygments_lexer": "ipython3",
   "version": "3.9.13"
  }
 },
 "nbformat": 4,
 "nbformat_minor": 5
}
