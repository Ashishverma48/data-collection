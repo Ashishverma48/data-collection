{
 "cells": [
  {
   "cell_type": "markdown",
   "id": "5c3adb17",
   "metadata": {},
   "source": [
    "# USER DEFINE FUNCTION"
   ]
  },
  {
   "cell_type": "code",
   "execution_count": null,
   "id": "5349e6d0",
   "metadata": {},
   "outputs": [],
   "source": [
    "# syntax\n",
    "\n",
    "# .. CREATING A FUNCTION\n",
    "\n",
    "#  def functionname():\n",
    "#     function body\n",
    "\n",
    "# calling a function\n",
    " \n",
    "    # function()\n",
    "    "
   ]
  },
  {
   "cell_type": "code",
   "execution_count": 6,
   "id": "81a77bc4",
   "metadata": {},
   "outputs": [
    {
     "name": "stdout",
     "output_type": "stream",
     "text": [
      "12\n"
     ]
    }
   ],
   "source": [
    "# creating function\n",
    "def a():\n",
    "    a=12\n",
    "    print(a)\n",
    "a()"
   ]
  },
  {
   "cell_type": "code",
   "execution_count": 8,
   "id": "3024fb0b",
   "metadata": {},
   "outputs": [
    {
     "name": "stdout",
     "output_type": "stream",
     "text": [
      "45\n"
     ]
    }
   ],
   "source": [
    "def add():\n",
    "    a=12\n",
    "    b=33\n",
    "    c=a+b\n",
    "    print(c)\n",
    "add()"
   ]
  },
  {
   "cell_type": "code",
   "execution_count": 12,
   "id": "04ac7efd",
   "metadata": {},
   "outputs": [
    {
     "name": "stdout",
     "output_type": "stream",
     "text": [
      "873\n"
     ]
    }
   ],
   "source": [
    "def add(x,y):\n",
    "    z=x+y\n",
    "    print(z)\n",
    "add(776,97)"
   ]
  },
  {
   "cell_type": "code",
   "execution_count": 16,
   "id": "95ef6b86",
   "metadata": {},
   "outputs": [
    {
     "data": {
      "text/plain": [
       "873"
      ]
     },
     "execution_count": 16,
     "metadata": {},
     "output_type": "execute_result"
    }
   ],
   "source": [
    "def add(x,y):\n",
    "    z=x+y\n",
    "    return z\n",
    "add(776,97)"
   ]
  },
  {
   "cell_type": "code",
   "execution_count": 26,
   "id": "76de6f49",
   "metadata": {},
   "outputs": [
    {
     "name": "stdout",
     "output_type": "stream",
     "text": [
      "23\n"
     ]
    }
   ],
   "source": [
    "# FUNCTION WITH ONE ARGUMENT\n",
    "\n",
    "def fun(a):\n",
    "    print(a)\n",
    "\n",
    "    # calling a fiunction\n",
    "fun(23)"
   ]
  },
  {
   "cell_type": "code",
   "execution_count": 29,
   "id": "474649d6",
   "metadata": {},
   "outputs": [
    {
     "name": "stdout",
     "output_type": "stream",
     "text": [
      "A   12\n",
      "B   17\n"
     ]
    }
   ],
   "source": [
    "# # multiple argument into function\n",
    "\n",
    "def function(a,b):\n",
    "    print('A  ',a)\n",
    "    print('B  ',b)\n",
    "    \n",
    "# calling a function\n",
    "\n",
    "function(12,17)"
   ]
  },
  {
   "cell_type": "code",
   "execution_count": 35,
   "id": "0d3610cf",
   "metadata": {},
   "outputs": [
    {
     "name": "stdout",
     "output_type": "stream",
     "text": [
      "ram shyam hari\n"
     ]
    }
   ],
   "source": [
    "# key words argument\n",
    "\n",
    "def myfun(ch1,ch2,ch3):\n",
    "    print(ch1,ch2,ch3)\n",
    "myfun('ram','shyam','hari')"
   ]
  },
  {
   "cell_type": "code",
   "execution_count": 40,
   "id": "2a51e324",
   "metadata": {},
   "outputs": [
    {
     "name": "stdout",
     "output_type": "stream",
     "text": [
      "i am from   haryana\n",
      "i am from   rajsthan\n",
      "i am from   up\n"
     ]
    }
   ],
   "source": [
    "# defualt parameter value\n",
    "def fun(state='up'):\n",
    "    print('i am from  ',state)\n",
    "fun('haryana')\n",
    "fun('rajsthan')\n",
    "fun()"
   ]
  },
  {
   "cell_type": "code",
   "execution_count": 42,
   "id": "790e6df9",
   "metadata": {},
   "outputs": [
    {
     "name": "stdout",
     "output_type": "stream",
     "text": [
      "apple\n",
      "mango\n",
      "banana\n"
     ]
    }
   ],
   "source": [
    "# passing a list into function\n",
    "\n",
    "def myfun(fruit):\n",
    "    for i in fruit:\n",
    "        print(i)\n",
    "    \n",
    "f = ('apple','mango','banana')\n",
    "myfun(f)"
   ]
  },
  {
   "cell_type": "code",
   "execution_count": 44,
   "id": "3f121870",
   "metadata": {},
   "outputs": [],
   "source": [
    "# return value from function\n",
    "\n",
    "def myfun(x):\n",
    "    return 5*x\n"
   ]
  },
  {
   "cell_type": "code",
   "execution_count": 46,
   "id": "e74f54bb",
   "metadata": {},
   "outputs": [
    {
     "data": {
      "text/plain": [
       "20"
      ]
     },
     "execution_count": 46,
     "metadata": {},
     "output_type": "execute_result"
    }
   ],
   "source": [
    "myfun(4)"
   ]
  },
  {
   "cell_type": "code",
   "execution_count": 51,
   "id": "544ffa82",
   "metadata": {},
   "outputs": [
    {
     "name": "stdout",
     "output_type": "stream",
     "text": [
      "ENTER ANY NUMBER  =  5\n",
      "The factorial of 5 is  :  120\n"
     ]
    }
   ],
   "source": [
    "# recurstion  function\n",
    "\n",
    "# The function which call itself\n",
    "\n",
    "def fact(x):\n",
    "    if x == 1:\n",
    "        return 1\n",
    "    else:\n",
    "        return (x*fact(x-1))\n",
    "num = int(input('ENTER ANY NUMBER  =  '))\n",
    "print('The factorial of' ,num,'is  : ',fact(num))"
   ]
  },
  {
   "cell_type": "code",
   "execution_count": null,
   "id": "7bf2c39c",
   "metadata": {},
   "outputs": [],
   "source": [
    "# lamda function"
   ]
  },
  {
   "cell_type": "code",
   "execution_count": null,
   "id": "d84dcb47",
   "metadata": {},
   "outputs": [],
   "source": []
  }
 ],
 "metadata": {
  "kernelspec": {
   "display_name": "Python 3 (ipykernel)",
   "language": "python",
   "name": "python3"
  },
  "language_info": {
   "codemirror_mode": {
    "name": "ipython",
    "version": 3
   },
   "file_extension": ".py",
   "mimetype": "text/x-python",
   "name": "python",
   "nbconvert_exporter": "python",
   "pygments_lexer": "ipython3",
   "version": "3.9.13"
  }
 },
 "nbformat": 4,
 "nbformat_minor": 5
}
