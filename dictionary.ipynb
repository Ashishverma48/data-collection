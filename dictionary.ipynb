{
 "cells": [
  {
   "cell_type": "code",
   "execution_count": 4,
   "id": "9c1d6136",
   "metadata": {},
   "outputs": [
    {
     "name": "stdout",
     "output_type": "stream",
     "text": [
      "{1: 'apple', 2: 'mango', 3: 'banana', 4: 'apple'}\n"
     ]
    },
    {
     "data": {
      "text/plain": [
       "dict"
      ]
     },
     "execution_count": 4,
     "metadata": {},
     "output_type": "execute_result"
    }
   ],
   "source": [
    "# craeting a dectionary\n",
    "\n",
    "d = {1:'apple',2:'mango',3:'banana',4:'apple'}\n",
    "print(d)\n",
    "type(d)"
   ]
  },
  {
   "cell_type": "code",
   "execution_count": 6,
   "id": "738d66fc",
   "metadata": {},
   "outputs": [
    {
     "name": "stdout",
     "output_type": "stream",
     "text": [
      "{1: 'python', 2: 'css', 3: 'html', 'fruit': ['APPLE', 'MANGO', 'ORENGE', 'KIVI']}\n"
     ]
    }
   ],
   "source": [
    "# list into dictionary  store\n",
    "\n",
    "d1 = {1:'python',2:'css',3:'html','fruit':['APPLE','MANGO','ORENGE','KIVI']}\n",
    "print(d1)"
   ]
  },
  {
   "cell_type": "code",
   "execution_count": 53,
   "id": "33a51ba6",
   "metadata": {},
   "outputs": [
    {
     "name": "stdout",
     "output_type": "stream",
     "text": [
      "{1: 'java', 2: 'python', 'language ': ('html', 'css', 'javascript', 'c', 'c++')}\n",
      "<class 'dict'>\n",
      "dict_keys([1, 2, 'language '])\n",
      "dict_values(['java', 'python', ('html', 'css', 'javascript', 'c', 'c++')])\n"
     ]
    }
   ],
   "source": [
    "# tuple into dictionary store\n",
    "\n",
    "d2 = {1:'java',2:'python',\"language \":('html','css','javascript','c','c++')}\n",
    "print(d2)\n",
    "print(type(d2))\n",
    "\n",
    "print(d2.keys())\n",
    "\n",
    "print(d2.values())"
   ]
  },
  {
   "cell_type": "code",
   "execution_count": null,
   "id": "35520b9b",
   "metadata": {},
   "outputs": [],
   "source": [
    "# access the value of dict"
   ]
  },
  {
   "cell_type": "code",
   "execution_count": 12,
   "id": "7023f0bd",
   "metadata": {},
   "outputs": [
    {
     "name": "stdout",
     "output_type": "stream",
     "text": [
      "CURRENT DICT  {1: 'apple', 2: 'mango', 3: 'banana', 4: 'apple', 'A': 'B'}\n"
     ]
    }
   ],
   "source": [
    "d = {1:'apple',2:'mango',3:'banana',4:'apple','A':'B'}\n",
    "print(\"CURRENT DICT \",d)"
   ]
  },
  {
   "cell_type": "code",
   "execution_count": 16,
   "id": "b2061fc9",
   "metadata": {},
   "outputs": [
    {
     "name": "stdout",
     "output_type": "stream",
     "text": [
      "banana\n"
     ]
    }
   ],
   "source": [
    "# access the value using key\n",
    "\n",
    "a=d[3]\n",
    "print(a)"
   ]
  },
  {
   "cell_type": "code",
   "execution_count": 17,
   "id": "8bff2c94",
   "metadata": {},
   "outputs": [
    {
     "name": "stdout",
     "output_type": "stream",
     "text": [
      "mango\n"
     ]
    }
   ],
   "source": [
    " # access the value using ger()\n",
    "    \n",
    "y=d.get(2)\n",
    "print(y)"
   ]
  },
  {
   "cell_type": "code",
   "execution_count": 18,
   "id": "ffbdddfd",
   "metadata": {},
   "outputs": [
    {
     "name": "stdout",
     "output_type": "stream",
     "text": [
      "dict_items([(1, 'apple'), (2, 'mango'), (3, 'banana'), (4, 'apple'), ('A', 'B')])\n"
     ]
    }
   ],
   "source": [
    "# access the value using item()\n",
    "\n",
    "c=d.items()\n",
    "print(c)"
   ]
  },
  {
   "cell_type": "code",
   "execution_count": 20,
   "id": "071cbc10",
   "metadata": {},
   "outputs": [
    {
     "name": "stdout",
     "output_type": "stream",
     "text": [
      "UPDATED   {1: 'apple', 2: 'mango', 3: 'banana', 4: 'orenge'}\n"
     ]
    }
   ],
   "source": [
    "# change the value\n",
    "\n",
    "d = {1:'apple',2:'mango',3:'banana',4:'kiwi'}\n",
    "d[4]='orenge'\n",
    "print('UPDATED  ',d)"
   ]
  },
  {
   "cell_type": "code",
   "execution_count": 32,
   "id": "5e395f0f",
   "metadata": {},
   "outputs": [
    {
     "name": "stdout",
     "output_type": "stream",
     "text": [
      "{1: 'apple', 2: 'mango', 3: 'banana', 4: 'kiwi'}\n"
     ]
    }
   ],
   "source": [
    " # update dict by using update()\n",
    "d = {1:'apple',2:'mango',3:'banana',4:'kiwi'}\n",
    "print(d)"
   ]
  },
  {
   "cell_type": "code",
   "execution_count": 33,
   "id": "22807e42",
   "metadata": {},
   "outputs": [],
   "source": [
    "d.update({3:'orenge'})"
   ]
  },
  {
   "cell_type": "code",
   "execution_count": 34,
   "id": "174940d0",
   "metadata": {},
   "outputs": [
    {
     "data": {
      "text/plain": [
       "{1: 'apple', 2: 'mango', 3: 'orenge', 4: 'kiwi'}"
      ]
     },
     "execution_count": 34,
     "metadata": {},
     "output_type": "execute_result"
    }
   ],
   "source": [
    "d"
   ]
  },
  {
   "cell_type": "code",
   "execution_count": null,
   "id": "42677aa0",
   "metadata": {},
   "outputs": [],
   "source": [
    " # using pop method"
   ]
  },
  {
   "cell_type": "code",
   "execution_count": 36,
   "id": "c12e58ce",
   "metadata": {},
   "outputs": [
    {
     "data": {
      "text/plain": [
       "'kiwi'"
      ]
     },
     "execution_count": 36,
     "metadata": {},
     "output_type": "execute_result"
    }
   ],
   "source": [
    "d = {1:'apple',2:'mango',3:'banana',4:'kiwi'}\n",
    "\n",
    "d.pop(4)"
   ]
  },
  {
   "cell_type": "code",
   "execution_count": 37,
   "id": "6593071d",
   "metadata": {},
   "outputs": [
    {
     "data": {
      "text/plain": [
       "{1: 'apple', 2: 'mango', 3: 'banana'}"
      ]
     },
     "execution_count": 37,
     "metadata": {},
     "output_type": "execute_result"
    }
   ],
   "source": [
    "d"
   ]
  },
  {
   "cell_type": "code",
   "execution_count": 38,
   "id": "7733588e",
   "metadata": {},
   "outputs": [
    {
     "data": {
      "text/plain": [
       "(4, 'kiwi')"
      ]
     },
     "execution_count": 38,
     "metadata": {},
     "output_type": "execute_result"
    }
   ],
   "source": [
    "# using pop item  for last value\n",
    "\n",
    "d = {1:'apple',2:'mango',3:'banana',4:'kiwi'}\n",
    "\n",
    "d.popitem()"
   ]
  },
  {
   "cell_type": "code",
   "execution_count": 43,
   "id": "b7a7c7f6",
   "metadata": {},
   "outputs": [],
   "source": [
    "# using del()\n",
    "d = {1:'apple',2:'mango',3:'banana',4:'kiwi'}\n",
    "del d[4]"
   ]
  },
  {
   "cell_type": "code",
   "execution_count": 44,
   "id": "f9ca0b12",
   "metadata": {},
   "outputs": [
    {
     "data": {
      "text/plain": [
       "{1: 'apple', 2: 'mango', 3: 'banana'}"
      ]
     },
     "execution_count": 44,
     "metadata": {},
     "output_type": "execute_result"
    }
   ],
   "source": [
    "d"
   ]
  },
  {
   "cell_type": "code",
   "execution_count": 45,
   "id": "93851e93",
   "metadata": {},
   "outputs": [],
   "source": [
    "# using clear method\n",
    "\n",
    "d = {1:'apple',2:'mango',3:'banana',4:'kiwi'}\n",
    "\n",
    "d.clear()"
   ]
  },
  {
   "cell_type": "code",
   "execution_count": 46,
   "id": "7cd8f9e8",
   "metadata": {},
   "outputs": [
    {
     "data": {
      "text/plain": [
       "{}"
      ]
     },
     "execution_count": 46,
     "metadata": {},
     "output_type": "execute_result"
    }
   ],
   "source": [
    "d"
   ]
  },
  {
   "cell_type": "code",
   "execution_count": 47,
   "id": "b56afff4",
   "metadata": {},
   "outputs": [
    {
     "name": "stdout",
     "output_type": "stream",
     "text": [
      "dict_keys([1, 2, 3, 4])\n"
     ]
    }
   ],
   "source": [
    "# access the only keys from dict\n",
    "\n",
    "d = {1:'apple',2:'mango',3:'banana',4:'kiwi'}\n",
    "\n",
    "a=d.keys()\n",
    "print(a)"
   ]
  },
  {
   "cell_type": "code",
   "execution_count": 48,
   "id": "345c3344",
   "metadata": {},
   "outputs": [
    {
     "data": {
      "text/plain": [
       "dict_items([(1, 'apple'), (2, 'mango'), (3, 'banana'), (4, 'kiwi')])"
      ]
     },
     "execution_count": 48,
     "metadata": {},
     "output_type": "execute_result"
    }
   ],
   "source": [
    "d.items()"
   ]
  },
  {
   "cell_type": "code",
   "execution_count": 49,
   "id": "10aae3c6",
   "metadata": {},
   "outputs": [
    {
     "data": {
      "text/plain": [
       "dict_values(['apple', 'mango', 'banana', 'kiwi'])"
      ]
     },
     "execution_count": 49,
     "metadata": {},
     "output_type": "execute_result"
    }
   ],
   "source": [
    "d.values()"
   ]
  },
  {
   "cell_type": "code",
   "execution_count": null,
   "id": "327106d6",
   "metadata": {},
   "outputs": [],
   "source": []
  }
 ],
 "metadata": {
  "kernelspec": {
   "display_name": "Python 3 (ipykernel)",
   "language": "python",
   "name": "python3"
  },
  "language_info": {
   "codemirror_mode": {
    "name": "ipython",
    "version": 3
   },
   "file_extension": ".py",
   "mimetype": "text/x-python",
   "name": "python",
   "nbconvert_exporter": "python",
   "pygments_lexer": "ipython3",
   "version": "3.9.13"
  }
 },
 "nbformat": 4,
 "nbformat_minor": 5
}
