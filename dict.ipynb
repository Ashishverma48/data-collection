{
 "cells": [
  {
   "cell_type": "code",
   "execution_count": 12,
   "id": "1f9a172c",
   "metadata": {},
   "outputs": [
    {
     "name": "stdout",
     "output_type": "stream",
     "text": [
      "{'name': 'a', 'age': 22}\n"
     ]
    }
   ],
   "source": [
    "x = {\n",
    "    'name':'a',\n",
    "    'age':22\n",
    "}\n",
    "print(x)"
   ]
  },
  {
   "cell_type": "code",
   "execution_count": 6,
   "id": "d89555db",
   "metadata": {},
   "outputs": [
    {
     "data": {
      "text/plain": [
       "dict"
      ]
     },
     "execution_count": 6,
     "metadata": {},
     "output_type": "execute_result"
    }
   ],
   "source": [
    "type(x)"
   ]
  },
  {
   "cell_type": "code",
   "execution_count": 25,
   "id": "4a97f4db",
   "metadata": {},
   "outputs": [
    {
     "name": "stdout",
     "output_type": "stream",
     "text": [
      "{'emp id': 11221, 'salary': 10000}\n"
     ]
    },
    {
     "data": {
      "text/plain": [
       "dict"
      ]
     },
     "execution_count": 25,
     "metadata": {},
     "output_type": "execute_result"
    }
   ],
   "source": [
    "x = {\n",
    "    'emp id':11221,\n",
    "    'salary':10000\n",
    "}\n",
    "print(x)\n",
    "type(x)"
   ]
  },
  {
   "cell_type": "markdown",
   "id": "85cafe29",
   "metadata": {},
   "source": [
    "# slicing &indexing"
   ]
  },
  {
   "cell_type": "code",
   "execution_count": 26,
   "id": "78491811",
   "metadata": {},
   "outputs": [
    {
     "data": {
      "text/plain": [
       "{'emp id': 11221, 'salary': 10000}"
      ]
     },
     "execution_count": 26,
     "metadata": {},
     "output_type": "execute_result"
    }
   ],
   "source": [
    "x"
   ]
  },
  {
   "cell_type": "code",
   "execution_count": 27,
   "id": "5da0cf98",
   "metadata": {},
   "outputs": [
    {
     "data": {
      "text/plain": [
       "10000"
      ]
     },
     "execution_count": 27,
     "metadata": {},
     "output_type": "execute_result"
    }
   ],
   "source": [
    "x['salary']"
   ]
  },
  {
   "cell_type": "code",
   "execution_count": 28,
   "id": "e7a4ff80",
   "metadata": {},
   "outputs": [
    {
     "data": {
      "text/plain": [
       "11221"
      ]
     },
     "execution_count": 28,
     "metadata": {},
     "output_type": "execute_result"
    }
   ],
   "source": [
    "x['emp id']"
   ]
  },
  {
   "cell_type": "code",
   "execution_count": 31,
   "id": "d890ed64",
   "metadata": {},
   "outputs": [
    {
     "name": "stdout",
     "output_type": "stream",
     "text": [
      "{'name': ['a', 'b', 'c'], 'age': (11, 22, 33), 'marks': (44, 33, 21)}\n"
     ]
    }
   ],
   "source": [
    "s = {\n",
    "    'name':['a','b','c'],\n",
    "    'age':(11,22,33),\n",
    "    'marks':(44,33,21)\n",
    "}\n",
    "print(s)"
   ]
  },
  {
   "cell_type": "code",
   "execution_count": 44,
   "id": "828a7609",
   "metadata": {},
   "outputs": [
    {
     "data": {
      "text/plain": [
       "44"
      ]
     },
     "execution_count": 44,
     "metadata": {},
     "output_type": "execute_result"
    }
   ],
   "source": [
    "s['marks'][0]  # marks of a"
   ]
  },
  {
   "cell_type": "code",
   "execution_count": 47,
   "id": "696eab6b",
   "metadata": {},
   "outputs": [
    {
     "name": "stdout",
     "output_type": "stream",
     "text": [
      "{'name': 'ram', 'age': 22}\n"
     ]
    }
   ],
   "source": [
    "#mutable\n",
    "a = {\n",
    "    'name':'ram',\n",
    "    'age':22\n",
    "}\n",
    "print(a)"
   ]
  },
  {
   "cell_type": "code",
   "execution_count": 49,
   "id": "fd556df0",
   "metadata": {},
   "outputs": [],
   "source": [
    "a['name']='shyam'"
   ]
  },
  {
   "cell_type": "code",
   "execution_count": 50,
   "id": "b293f767",
   "metadata": {},
   "outputs": [
    {
     "data": {
      "text/plain": [
       "{'name': 'shyam', 'age': 22}"
      ]
     },
     "execution_count": 50,
     "metadata": {},
     "output_type": "execute_result"
    }
   ],
   "source": [
    "a"
   ]
  },
  {
   "cell_type": "code",
   "execution_count": 52,
   "id": "7c0f260e",
   "metadata": {},
   "outputs": [],
   "source": [
    "a['age']=33  #single data change"
   ]
  },
  {
   "cell_type": "code",
   "execution_count": 53,
   "id": "ee7b2a48",
   "metadata": {},
   "outputs": [
    {
     "data": {
      "text/plain": [
       "{'name': 'shyam', 'age': 33}"
      ]
     },
     "execution_count": 53,
     "metadata": {},
     "output_type": "execute_result"
    }
   ],
   "source": [
    "a"
   ]
  },
  {
   "cell_type": "code",
   "execution_count": 56,
   "id": "ab87cffd",
   "metadata": {},
   "outputs": [],
   "source": [
    "a['name']='shyam'"
   ]
  },
  {
   "cell_type": "code",
   "execution_count": 57,
   "id": "d4d47cad",
   "metadata": {},
   "outputs": [
    {
     "data": {
      "text/plain": [
       "{'name': 'shyam', 'age': 33}"
      ]
     },
     "execution_count": 57,
     "metadata": {},
     "output_type": "execute_result"
    }
   ],
   "source": [
    "a"
   ]
  },
  {
   "cell_type": "code",
   "execution_count": 60,
   "id": "53fb96d5",
   "metadata": {},
   "outputs": [],
   "source": [
    "# multiple data change\n",
    "\n",
    "a['name']=['x','y','z']"
   ]
  },
  {
   "cell_type": "code",
   "execution_count": 61,
   "id": "c9468742",
   "metadata": {},
   "outputs": [
    {
     "data": {
      "text/plain": [
       "{'name': ['x', 'y', 'z'], 'age': 33}"
      ]
     },
     "execution_count": 61,
     "metadata": {},
     "output_type": "execute_result"
    }
   ],
   "source": [
    "a"
   ]
  },
  {
   "cell_type": "code",
   "execution_count": 71,
   "id": "5e2255b1",
   "metadata": {},
   "outputs": [],
   "source": [
    "x = {\n",
    "    1:0,\n",
    "    '1':0,\n",
    "     1:'0',\n",
    "    '1':'0',\n",
    "    'hello':123,\n",
    "    '123':45,\n",
    "    123:'x'\n",
    "}\n"
   ]
  },
  {
   "cell_type": "code",
   "execution_count": 72,
   "id": "82f596a0",
   "metadata": {},
   "outputs": [
    {
     "data": {
      "text/plain": [
       "{1: '0', '1': '0', 'hello': 123, '123': 45, 123: 'x'}"
      ]
     },
     "execution_count": 72,
     "metadata": {},
     "output_type": "execute_result"
    }
   ],
   "source": [
    "x"
   ]
  },
  {
   "cell_type": "code",
   "execution_count": 87,
   "id": "5602504b",
   "metadata": {},
   "outputs": [],
   "source": [
    "a = {\n",
    "    1:0    #single element dict\n",
    "}"
   ]
  },
  {
   "cell_type": "code",
   "execution_count": 88,
   "id": "bd57dd97",
   "metadata": {},
   "outputs": [
    {
     "data": {
      "text/plain": [
       "{1: 0}"
      ]
     },
     "execution_count": 88,
     "metadata": {},
     "output_type": "execute_result"
    }
   ],
   "source": [
    "a"
   ]
  },
  {
   "cell_type": "code",
   "execution_count": 95,
   "id": "31b8bc9c",
   "metadata": {},
   "outputs": [],
   "source": [
    "#empty  dict\n",
    "b = {   \n",
    "}       "
   ]
  },
  {
   "cell_type": "code",
   "execution_count": 97,
   "id": "0e2e7b6c",
   "metadata": {},
   "outputs": [
    {
     "data": {
      "text/plain": [
       "{}"
      ]
     },
     "execution_count": 97,
     "metadata": {},
     "output_type": "execute_result"
    }
   ],
   "source": [
    "b"
   ]
  },
  {
   "cell_type": "code",
   "execution_count": 100,
   "id": "b51f02fd",
   "metadata": {},
   "outputs": [],
   "source": [
    "# dict under dict\n",
    "x = {'name':123,\n",
    "     'd':{\n",
    "         'add':1212,\n",
    "         'marks':212     \n",
    "     }\n",
    "}"
   ]
  },
  {
   "cell_type": "code",
   "execution_count": 101,
   "id": "0e8395f4",
   "metadata": {},
   "outputs": [
    {
     "data": {
      "text/plain": [
       "{'name': 123, 'd': {'add': 1212, 'marks': 212}}"
      ]
     },
     "execution_count": 101,
     "metadata": {},
     "output_type": "execute_result"
    }
   ],
   "source": [
    "x"
   ]
  },
  {
   "cell_type": "code",
   "execution_count": 112,
   "id": "8d5731ae",
   "metadata": {},
   "outputs": [
    {
     "data": {
      "text/plain": [
       "655"
      ]
     },
     "execution_count": 112,
     "metadata": {},
     "output_type": "execute_result"
    }
   ],
   "source": [
    "x['d']['marks']"
   ]
  },
  {
   "cell_type": "code",
   "execution_count": 111,
   "id": "b2453940",
   "metadata": {},
   "outputs": [
    {
     "data": {
      "text/plain": [
       "1212"
      ]
     },
     "execution_count": 111,
     "metadata": {},
     "output_type": "execute_result"
    }
   ],
   "source": [
    "x['d']['add']"
   ]
  },
  {
   "cell_type": "code",
   "execution_count": null,
   "id": "20887761",
   "metadata": {},
   "outputs": [],
   "source": []
  }
 ],
 "metadata": {
  "kernelspec": {
   "display_name": "Python 3 (ipykernel)",
   "language": "python",
   "name": "python3"
  },
  "language_info": {
   "codemirror_mode": {
    "name": "ipython",
    "version": 3
   },
   "file_extension": ".py",
   "mimetype": "text/x-python",
   "name": "python",
   "nbconvert_exporter": "python",
   "pygments_lexer": "ipython3",
   "version": "3.9.13"
  }
 },
 "nbformat": 4,
 "nbformat_minor": 5
}
