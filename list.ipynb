{
 "cells": [
  {
   "cell_type": "code",
   "execution_count": 2,
   "id": "98f21840",
   "metadata": {},
   "outputs": [
    {
     "data": {
      "text/plain": [
       "676"
      ]
     },
     "execution_count": 2,
     "metadata": {},
     "output_type": "execute_result"
    }
   ],
   "source": [
    "# find maximun number in list\n",
    "a = [12,34,56,676,85,21,34]\n",
    "max(a)"
   ]
  },
  {
   "cell_type": "code",
   "execution_count": 4,
   "id": "2b396e48",
   "metadata": {},
   "outputs": [
    {
     "data": {
      "text/plain": [
       "12"
      ]
     },
     "execution_count": 4,
     "metadata": {},
     "output_type": "execute_result"
    }
   ],
   "source": [
    "# find minimum number in list\n",
    "b = [12,22,44,55,66]\n",
    "min(b)"
   ]
  },
  {
   "cell_type": "code",
   "execution_count": 6,
   "id": "2f84f950",
   "metadata": {},
   "outputs": [],
   "source": [
    "#reverse list\n",
    "x=[12,34,56,34,4,5,5,6]\n",
    "x.reverse()"
   ]
  },
  {
   "cell_type": "code",
   "execution_count": 7,
   "id": "5af17855",
   "metadata": {},
   "outputs": [
    {
     "data": {
      "text/plain": [
       "[6, 5, 5, 4, 34, 56, 34, 12]"
      ]
     },
     "execution_count": 7,
     "metadata": {},
     "output_type": "execute_result"
    }
   ],
   "source": [
    "x"
   ]
  },
  {
   "cell_type": "code",
   "execution_count": 8,
   "id": "34262844",
   "metadata": {},
   "outputs": [
    {
     "data": {
      "text/plain": [
       "[12, 34, 56, 34, 4, 5, 5, 6]"
      ]
     },
     "execution_count": 8,
     "metadata": {},
     "output_type": "execute_result"
    }
   ],
   "source": [
    "x[::-1]"
   ]
  },
  {
   "cell_type": "code",
   "execution_count": 22,
   "id": "8adb3f2d",
   "metadata": {},
   "outputs": [
    {
     "data": {
      "text/plain": [
       "[12, 22, 44, 55, 66]"
      ]
     },
     "execution_count": 22,
     "metadata": {},
     "output_type": "execute_result"
    }
   ],
   "source": [
    "b = [12,22,44,55,66]\n",
    "b[::]"
   ]
  },
  {
   "cell_type": "code",
   "execution_count": 31,
   "id": "657893c4",
   "metadata": {},
   "outputs": [
    {
     "name": "stdout",
     "output_type": "stream",
     "text": [
      "199\n"
     ]
    }
   ],
   "source": [
    "# sum of number digit in list\n",
    "b = [12,22,44,55,66]\n",
    "sum=0\n",
    "for i in b:\n",
    "    sum=sum+i\n",
    "print(sum)\n",
    "    "
   ]
  },
  {
   "cell_type": "code",
   "execution_count": 30,
   "id": "1f156304",
   "metadata": {},
   "outputs": [
    {
     "name": "stdout",
     "output_type": "stream",
     "text": [
      "42166080\n"
     ]
    }
   ],
   "source": [
    "# multiply of number in the list\n",
    "\n",
    "b = [12,22,44,55,66]\n",
    "mul = 1\n",
    "for i in b:\n",
    "    mul=mul*i\n",
    "print(mul)"
   ]
  },
  {
   "cell_type": "code",
   "execution_count": 41,
   "id": "31618aba",
   "metadata": {},
   "outputs": [
    {
     "name": "stdout",
     "output_type": "stream",
     "text": [
      "EVEN -  12\n",
      "EVEN -  22\n",
      "EVEN -  44\n",
      "ODD -  55\n",
      "ODD -  3\n",
      "EVEN -  4\n",
      "ODD -  5\n",
      "ODD -  7\n",
      "ODD -  9\n",
      "EVEN -  6\n",
      "\n",
      "TOTAL EVEN NUMBER -  5\n",
      "TOTAL ODD NUMBER -  5\n"
     ]
    }
   ],
   "source": [
    "b = [12,22,44,55,3,4,5,7,9,6]\n",
    "odd = 0\n",
    "even = 0\n",
    "for i in b:\n",
    "    if i%2==0:\n",
    "        print(\"EVEN - \",i)\n",
    "        even+=1\n",
    "    else:\n",
    "        print(\"ODD - \",i)\n",
    "        odd+=1\n",
    "        \n",
    "print()\n",
    "print(\"TOTAL EVEN NUMBER - \",even)\n",
    "print(\"TOTAL ODD NUMBER - \",odd)"
   ]
  },
  {
   "cell_type": "code",
   "execution_count": 45,
   "id": "f9b52270",
   "metadata": {},
   "outputs": [
    {
     "name": "stdout",
     "output_type": "stream",
     "text": [
      "POSITIVE NUMBER -  1\n",
      "NEGATIVE NUMBER -  -3\n",
      "NEGATIVE NUMBER -  -4\n",
      "POSITIVE NUMBER -  6\n",
      "POSITIVE NUMBER -  78\n",
      "NEGATIVE NUMBER -  -9\n",
      "POSITIVE NUMBER -  8\n",
      "POSITIVE NUMBER -  9\n",
      "ZERO NUMBER -  0\n",
      "POSITIVE NUMBER -  23\n"
     ]
    }
   ],
   "source": [
    "b = [1,-3,-4,6,78,-9,8,9,0,23]\n",
    "for i in b:\n",
    "    if i>0:\n",
    "        print(\"POSITIVE NUMBER - \",i)\n",
    "    elif i<0:\n",
    "        print(\"NEGATIVE NUMBER - \",i)\n",
    "    elif i==0:\n",
    "        print(\"ZERO NUMBER - \",i)\n",
    "        "
   ]
  },
  {
   "cell_type": "code",
   "execution_count": 46,
   "id": "3b19c771",
   "metadata": {},
   "outputs": [],
   "source": [
    "b = [1,3,34,6,78,9,8,9,0,23]\n",
    "b.sort()"
   ]
  },
  {
   "cell_type": "code",
   "execution_count": 47,
   "id": "406a8fa5",
   "metadata": {},
   "outputs": [
    {
     "data": {
      "text/plain": [
       "[0, 1, 3, 6, 8, 9, 9, 23, 34, 78]"
      ]
     },
     "execution_count": 47,
     "metadata": {},
     "output_type": "execute_result"
    }
   ],
   "source": [
    "b"
   ]
  },
  {
   "cell_type": "code",
   "execution_count": 49,
   "id": "12e22af4",
   "metadata": {},
   "outputs": [
    {
     "data": {
      "text/plain": [
       "[0, 1, 3, 6, 8, 9, 9, 23, 34, 78]"
      ]
     },
     "execution_count": 49,
     "metadata": {},
     "output_type": "execute_result"
    }
   ],
   "source": [
    "b[::]"
   ]
  },
  {
   "cell_type": "code",
   "execution_count": 50,
   "id": "f670a6cc",
   "metadata": {},
   "outputs": [],
   "source": [
    "#swap to number in list\n",
    "b = [1,3,34,6]\n",
    "b[0],b[1]=b[1],b[0]"
   ]
  },
  {
   "cell_type": "code",
   "execution_count": 51,
   "id": "b5d65c95",
   "metadata": {},
   "outputs": [
    {
     "data": {
      "text/plain": [
       "[3, 1, 34, 6]"
      ]
     },
     "execution_count": 51,
     "metadata": {},
     "output_type": "execute_result"
    }
   ],
   "source": [
    "b"
   ]
  },
  {
   "cell_type": "code",
   "execution_count": 61,
   "id": "669b62d5",
   "metadata": {},
   "outputs": [],
   "source": [
    "b = [1,3,34,6,78,9,8,9,0,23]\n",
    "b.append(87)              # add in last in list"
   ]
  },
  {
   "cell_type": "code",
   "execution_count": 62,
   "id": "1d2732d8",
   "metadata": {},
   "outputs": [
    {
     "data": {
      "text/plain": [
       "[1, 3, 34, 6, 78, 9, 8, 9, 0, 23, 87]"
      ]
     },
     "execution_count": 62,
     "metadata": {},
     "output_type": "execute_result"
    }
   ],
   "source": [
    "b"
   ]
  },
  {
   "cell_type": "code",
   "execution_count": 58,
   "id": "c9b989b4",
   "metadata": {},
   "outputs": [],
   "source": [
    "#b.clear()     # remove list"
   ]
  },
  {
   "cell_type": "code",
   "execution_count": 67,
   "id": "71305a73",
   "metadata": {},
   "outputs": [
    {
     "data": {
      "text/plain": [
       "2"
      ]
     },
     "execution_count": 67,
     "metadata": {},
     "output_type": "execute_result"
    }
   ],
   "source": [
    "b.count(9)     # count number in list "
   ]
  },
  {
   "cell_type": "code",
   "execution_count": 71,
   "id": "ad6c9d56",
   "metadata": {},
   "outputs": [],
   "source": [
    "b.insert(1,'PYTHON')     # ADD NUMBER USING INDEX"
   ]
  },
  {
   "cell_type": "code",
   "execution_count": 72,
   "id": "ab6be1ba",
   "metadata": {},
   "outputs": [
    {
     "data": {
      "text/plain": [
       "[1, 'PYTHON', 23, 3, 34, 6, 78, 9, 8, 9, 0, 23, 87]"
      ]
     },
     "execution_count": 72,
     "metadata": {},
     "output_type": "execute_result"
    }
   ],
   "source": [
    "b"
   ]
  },
  {
   "cell_type": "code",
   "execution_count": 73,
   "id": "671f1f20",
   "metadata": {},
   "outputs": [
    {
     "data": {
      "text/plain": [
       "87"
      ]
     },
     "execution_count": 73,
     "metadata": {},
     "output_type": "execute_result"
    }
   ],
   "source": [
    "b.pop()    # remove last number"
   ]
  },
  {
   "cell_type": "code",
   "execution_count": 74,
   "id": "1fbb3085",
   "metadata": {},
   "outputs": [
    {
     "data": {
      "text/plain": [
       "[1, 'PYTHON', 23, 3, 34, 6, 78, 9, 8, 9, 0, 23]"
      ]
     },
     "execution_count": 74,
     "metadata": {},
     "output_type": "execute_result"
    }
   ],
   "source": [
    "b\n"
   ]
  },
  {
   "cell_type": "code",
   "execution_count": 76,
   "id": "633adac4",
   "metadata": {},
   "outputs": [],
   "source": [
    "b.remove(78)     # remove in list"
   ]
  },
  {
   "cell_type": "code",
   "execution_count": 77,
   "id": "d4fe4c96",
   "metadata": {},
   "outputs": [
    {
     "data": {
      "text/plain": [
       "[1, 'PYTHON', 23, 3, 34, 6, 9, 8, 9, 0, 23]"
      ]
     },
     "execution_count": 77,
     "metadata": {},
     "output_type": "execute_result"
    }
   ],
   "source": [
    "b"
   ]
  },
  {
   "cell_type": "code",
   "execution_count": 78,
   "id": "6ae21303",
   "metadata": {},
   "outputs": [],
   "source": [
    "b.reverse()    #reverse list"
   ]
  },
  {
   "cell_type": "code",
   "execution_count": 79,
   "id": "53dedce1",
   "metadata": {},
   "outputs": [
    {
     "data": {
      "text/plain": [
       "[23, 0, 9, 8, 9, 6, 34, 3, 23, 'PYTHON', 1]"
      ]
     },
     "execution_count": 79,
     "metadata": {},
     "output_type": "execute_result"
    }
   ],
   "source": [
    "b"
   ]
  },
  {
   "cell_type": "code",
   "execution_count": 83,
   "id": "38247b8e",
   "metadata": {},
   "outputs": [],
   "source": [
    "b = [1,3,34,6,78,9,8,9,0,23]\n",
    "b.sort()                         # sort accending"
   ]
  },
  {
   "cell_type": "code",
   "execution_count": 84,
   "id": "00b218b0",
   "metadata": {},
   "outputs": [
    {
     "data": {
      "text/plain": [
       "[0, 1, 3, 6, 8, 9, 9, 23, 34, 78]"
      ]
     },
     "execution_count": 84,
     "metadata": {},
     "output_type": "execute_result"
    }
   ],
   "source": [
    "b"
   ]
  },
  {
   "cell_type": "code",
   "execution_count": 86,
   "id": "8d10ef3a",
   "metadata": {},
   "outputs": [],
   "source": [
    "b.sort(reverse = True)    # sort decending"
   ]
  },
  {
   "cell_type": "code",
   "execution_count": 87,
   "id": "4403e8b2",
   "metadata": {},
   "outputs": [
    {
     "data": {
      "text/plain": [
       "[78, 34, 23, 9, 9, 8, 6, 3, 1, 0]"
      ]
     },
     "execution_count": 87,
     "metadata": {},
     "output_type": "execute_result"
    }
   ],
   "source": [
    "b"
   ]
  },
  {
   "cell_type": "code",
   "execution_count": 88,
   "id": "8b83df73",
   "metadata": {},
   "outputs": [
    {
     "data": {
      "text/plain": [
       "[34, 23, 9, 9, 8, 6, 3, 1, 0]"
      ]
     },
     "execution_count": 88,
     "metadata": {},
     "output_type": "execute_result"
    }
   ],
   "source": [
    "b[1:]"
   ]
  },
  {
   "cell_type": "code",
   "execution_count": 95,
   "id": "2e349779",
   "metadata": {},
   "outputs": [
    {
     "data": {
      "text/plain": [
       "[0, 1, 3, 6]"
      ]
     },
     "execution_count": 95,
     "metadata": {},
     "output_type": "execute_result"
    }
   ],
   "source": [
    "b[-1:-5:-1]"
   ]
  },
  {
   "cell_type": "code",
   "execution_count": 96,
   "id": "aac50fc8",
   "metadata": {},
   "outputs": [
    {
     "data": {
      "text/plain": [
       "[78, 34, 23, 9, 9, 8, 6, 3, 1, 0]"
      ]
     },
     "execution_count": 96,
     "metadata": {},
     "output_type": "execute_result"
    }
   ],
   "source": [
    "b"
   ]
  },
  {
   "cell_type": "code",
   "execution_count": 97,
   "id": "8ed1cf9b",
   "metadata": {},
   "outputs": [],
   "source": [
    "b[1]='apple'"
   ]
  },
  {
   "cell_type": "code",
   "execution_count": 98,
   "id": "25736946",
   "metadata": {},
   "outputs": [
    {
     "data": {
      "text/plain": [
       "[78, 'apple', 23, 9, 9, 8, 6, 3, 1, 0]"
      ]
     },
     "execution_count": 98,
     "metadata": {},
     "output_type": "execute_result"
    }
   ],
   "source": [
    "b"
   ]
  },
  {
   "cell_type": "code",
   "execution_count": 101,
   "id": "b4ce9821",
   "metadata": {},
   "outputs": [],
   "source": [
    "b[1:4]=['hello','python','dev']"
   ]
  },
  {
   "cell_type": "code",
   "execution_count": 102,
   "id": "0a5f8e6f",
   "metadata": {},
   "outputs": [
    {
     "data": {
      "text/plain": [
       "[78, 'hello', 'python', 'dev', 8, 6, 3, 1, 0]"
      ]
     },
     "execution_count": 102,
     "metadata": {},
     "output_type": "execute_result"
    }
   ],
   "source": [
    "b"
   ]
  },
  {
   "cell_type": "code",
   "execution_count": 107,
   "id": "eed6f8cd",
   "metadata": {},
   "outputs": [
    {
     "name": "stdout",
     "output_type": "stream",
     "text": [
      "12\n",
      "3\n",
      "3\n",
      "3\n",
      "4\n",
      "4\n",
      "5\n"
     ]
    }
   ],
   "source": [
    "a=[12,3,3,3,4,4,5]\n",
    "for i in a:\n",
    "    print(i)"
   ]
  },
  {
   "cell_type": "code",
   "execution_count": 108,
   "id": "6fd84608",
   "metadata": {},
   "outputs": [],
   "source": [
    "a[0:2]=[0]"
   ]
  },
  {
   "cell_type": "code",
   "execution_count": 109,
   "id": "794ef07f",
   "metadata": {},
   "outputs": [
    {
     "data": {
      "text/plain": [
       "[0, 3, 3, 4, 4, 5]"
      ]
     },
     "execution_count": 109,
     "metadata": {},
     "output_type": "execute_result"
    }
   ],
   "source": [
    "a"
   ]
  },
  {
   "cell_type": "code",
   "execution_count": 116,
   "id": "826e3008",
   "metadata": {},
   "outputs": [],
   "source": [
    "a=[1,2,3,4,5,6,7,8]\n",
    "a[:5] = [12,34,55,67]"
   ]
  },
  {
   "cell_type": "code",
   "execution_count": 117,
   "id": "6e2cb53a",
   "metadata": {},
   "outputs": [
    {
     "data": {
      "text/plain": [
       "[12, 34, 55, 67, 6, 7, 8]"
      ]
     },
     "execution_count": 117,
     "metadata": {},
     "output_type": "execute_result"
    }
   ],
   "source": [
    "a"
   ]
  },
  {
   "cell_type": "code",
   "execution_count": 118,
   "id": "da804bb4",
   "metadata": {},
   "outputs": [
    {
     "data": {
      "text/plain": [
       "list"
      ]
     },
     "execution_count": 118,
     "metadata": {},
     "output_type": "execute_result"
    }
   ],
   "source": [
    "type(a)"
   ]
  },
  {
   "cell_type": "code",
   "execution_count": null,
   "id": "b94aede8",
   "metadata": {},
   "outputs": [],
   "source": []
  }
 ],
 "metadata": {
  "kernelspec": {
   "display_name": "Python 3 (ipykernel)",
   "language": "python",
   "name": "python3"
  },
  "language_info": {
   "codemirror_mode": {
    "name": "ipython",
    "version": 3
   },
   "file_extension": ".py",
   "mimetype": "text/x-python",
   "name": "python",
   "nbconvert_exporter": "python",
   "pygments_lexer": "ipython3",
   "version": "3.9.13"
  }
 },
 "nbformat": 4,
 "nbformat_minor": 5
}
