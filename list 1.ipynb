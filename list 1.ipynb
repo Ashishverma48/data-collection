{
 "cells": [
  {
   "cell_type": "code",
   "execution_count": 1,
   "id": "b304a637",
   "metadata": {},
   "outputs": [
    {
     "name": "stdout",
     "output_type": "stream",
     "text": [
      "12\n",
      "15\n",
      "49\n",
      "103\n",
      "157\n",
      "223\n",
      "267\n"
     ]
    }
   ],
   "source": [
    "# sum of all list\n",
    "a = [12,3,34,54,54,66,44]\n",
    "sum = 0\n",
    "for i in a:\n",
    "    sum=sum+i\n",
    "    print(sum)"
   ]
  },
  {
   "cell_type": "code",
   "execution_count": 10,
   "id": "ac402731",
   "metadata": {},
   "outputs": [],
   "source": [
    "# sum of all list using function\n",
    "def sum(list):\n",
    "    sum=0\n",
    "    for i in list:\n",
    "        sum=sum+i\n",
    "    \n",
    "    print(sum)"
   ]
  },
  {
   "cell_type": "code",
   "execution_count": 11,
   "id": "502b3ec0",
   "metadata": {},
   "outputs": [
    {
     "name": "stdout",
     "output_type": "stream",
     "text": [
      "156\n"
     ]
    }
   ],
   "source": [
    "sum([23,33,34,33,22,11])"
   ]
  },
  {
   "cell_type": "code",
   "execution_count": 13,
   "id": "1b83db86",
   "metadata": {},
   "outputs": [
    {
     "name": "stdout",
     "output_type": "stream",
     "text": [
      "12\n",
      "36\n",
      "1224\n",
      "66096\n",
      "3569184\n",
      "235566144\n",
      "10364910336\n"
     ]
    }
   ],
   "source": [
    "# multiply of all list\n",
    "a = [12,3,34,54,54,66,44]\n",
    "mul=1\n",
    "\n",
    "for i in a:\n",
    "    mul=mul*i\n",
    "    print(mul)"
   ]
  },
  {
   "cell_type": "code",
   "execution_count": 16,
   "id": "37c375c5",
   "metadata": {},
   "outputs": [],
   "source": [
    "# multiply of all list using ffunction\n",
    "def mul(list):\n",
    "    mul=1\n",
    "    for i in list:\n",
    "        mul=mul*i\n",
    "        print(mul)"
   ]
  },
  {
   "cell_type": "code",
   "execution_count": 17,
   "id": "ae0cdf70",
   "metadata": {},
   "outputs": [
    {
     "name": "stdout",
     "output_type": "stream",
     "text": [
      "1\n",
      "2\n",
      "6\n",
      "24\n",
      "120\n",
      "720\n",
      "5040\n",
      "40320\n"
     ]
    }
   ],
   "source": [
    "mul([1,2,3,4,5,6,7,8])"
   ]
  },
  {
   "cell_type": "code",
   "execution_count": 18,
   "id": "b5bb3e80",
   "metadata": {},
   "outputs": [],
   "source": [
    "# find the largest number in list\n",
    "a = [12,3,34,54,54,66,44]\n",
    "a.sort()"
   ]
  },
  {
   "cell_type": "code",
   "execution_count": 19,
   "id": "fc6b720f",
   "metadata": {},
   "outputs": [
    {
     "data": {
      "text/plain": [
       "[3, 12, 34, 44, 54, 54, 66]"
      ]
     },
     "execution_count": 19,
     "metadata": {},
     "output_type": "execute_result"
    }
   ],
   "source": [
    "a"
   ]
  },
  {
   "cell_type": "code",
   "execution_count": 21,
   "id": "f9650525",
   "metadata": {},
   "outputs": [
    {
     "data": {
      "text/plain": [
       "66"
      ]
     },
     "execution_count": 21,
     "metadata": {},
     "output_type": "execute_result"
    }
   ],
   "source": [
    "a[-1]"
   ]
  },
  {
   "cell_type": "code",
   "execution_count": 22,
   "id": "2e64b6bd",
   "metadata": {},
   "outputs": [
    {
     "data": {
      "text/plain": [
       "66"
      ]
     },
     "execution_count": 22,
     "metadata": {},
     "output_type": "execute_result"
    }
   ],
   "source": [
    "# find the largest number in list\n",
    "max(a)"
   ]
  },
  {
   "cell_type": "code",
   "execution_count": 23,
   "id": "44c8a6ed",
   "metadata": {},
   "outputs": [
    {
     "data": {
      "text/plain": [
       "3"
      ]
     },
     "execution_count": 23,
     "metadata": {},
     "output_type": "execute_result"
    }
   ],
   "source": [
    "#  find the smallest number uinn the list\n",
    "min(a)"
   ]
  },
  {
   "cell_type": "code",
   "execution_count": 24,
   "id": "bd3e199e",
   "metadata": {},
   "outputs": [
    {
     "data": {
      "text/plain": [
       "0"
      ]
     },
     "execution_count": 24,
     "metadata": {},
     "output_type": "execute_result"
    }
   ],
   "source": [
    "a = ['html','css','c','c++','java','python']\n",
    "a.count('j')"
   ]
  },
  {
   "cell_type": "code",
   "execution_count": 26,
   "id": "1d433ff9",
   "metadata": {},
   "outputs": [
    {
     "data": {
      "text/plain": [
       "1"
      ]
     },
     "execution_count": 26,
     "metadata": {},
     "output_type": "execute_result"
    }
   ],
   "source": [
    "a = [12,3,34,54,54,66,44]\n",
    "a.count(12)"
   ]
  },
  {
   "cell_type": "code",
   "execution_count": 2,
   "id": "da11880a",
   "metadata": {},
   "outputs": [
    {
     "name": "stdout",
     "output_type": "stream",
     "text": [
      "{34, 3, 66, 12, 44, 54}\n"
     ]
    }
   ],
   "source": [
    "a = [12,3,34,54,54,66,44]\n",
    "dup = set()\n",
    "unq = []\n",
    "for i in a:\n",
    "    if i not in dup:\n",
    "        unq.append(i)\n",
    "        dup.add(i)\n",
    "print(dup)"
   ]
  },
  {
   "cell_type": "code",
   "execution_count": 9,
   "id": "2d9668bd",
   "metadata": {},
   "outputs": [
    {
     "name": "stdout",
     "output_type": "stream",
     "text": [
      "this is empty list\n"
     ]
    }
   ],
   "source": [
    "# check empty list\n",
    "l=[]\n",
    "if not l:\n",
    "    print(\"this is empty list\")\n",
    "else:\n",
    "    print(\"this is not empty list\")"
   ]
  },
  {
   "cell_type": "code",
   "execution_count": 10,
   "id": "2cb41097",
   "metadata": {},
   "outputs": [
    {
     "name": "stdout",
     "output_type": "stream",
     "text": [
      "[12, 3, 34, 54, 54, 66, 44]\n",
      "[12, 3, 34, 54, 54, 66, 44]\n"
     ]
    }
   ],
   "source": [
    "# copy a list\n",
    "a = [12,3,34,54,54,66,44]\n",
    "x= list(a)\n",
    "print(a)\n",
    "print(x)"
   ]
  },
  {
   "cell_type": "code",
   "execution_count": 11,
   "id": "04c5c3db",
   "metadata": {},
   "outputs": [
    {
     "name": "stdout",
     "output_type": "stream",
     "text": [
      "[12, 3, 34, 54, 54, 66, 44]\n",
      "[12, 3, 34, 54, 54, 66, 44]\n",
      "[12, 3, 34, 54, 54, 66, 44]\n",
      "[12, 3, 34, 54, 54, 66, 44]\n",
      "[12, 3, 34, 54, 54, 66, 44]\n",
      "[12, 3, 34, 54, 54, 66, 44]\n",
      "[12, 3, 34, 54, 54, 66, 44]\n"
     ]
    }
   ],
   "source": [
    "a = [12,3,34,54,54,66,44]\n",
    "for i in a:\n",
    "    print(a)"
   ]
  },
  {
   "cell_type": "code",
   "execution_count": 12,
   "id": "ba44e2f6",
   "metadata": {},
   "outputs": [
    {
     "name": "stdout",
     "output_type": "stream",
     "text": [
      "1505\n",
      "1540\n",
      "1575\n",
      "1610\n",
      "1645\n",
      "1680\n",
      "1715\n",
      "1750\n",
      "1785\n",
      "1820\n",
      "1855\n",
      "1890\n",
      "1925\n",
      "1960\n",
      "1995\n",
      "2030\n",
      "2065\n",
      "2100\n",
      "2135\n",
      "2170\n",
      "2205\n",
      "2240\n",
      "2275\n",
      "2310\n",
      "2345\n",
      "2380\n",
      "2415\n",
      "2450\n",
      "2485\n",
      "2520\n",
      "2555\n",
      "2590\n",
      "2625\n",
      "2660\n",
      "2695\n"
     ]
    }
   ],
   "source": [
    "# find number which are divide by 7 and multiple of 5\n",
    "for i in range(1500,2700):\n",
    "    if i%7==0 and i%5==0:\n",
    "        print(i)\n",
    "        "
   ]
  },
  {
   "cell_type": "code",
   "execution_count": 16,
   "id": "d9e6fd7f",
   "metadata": {},
   "outputs": [
    {
     "name": "stdout",
     "output_type": "stream",
     "text": [
      "[1505, 1540, 1575, 1610, 1645, 1680, 1715, 1750, 1785, 1820, 1855, 1890, 1925, 1960, 1995, 2030, 2065, 2100, 2135, 2170, 2205, 2240, 2275, 2310, 2345, 2380, 2415, 2450, 2485, 2520, 2555, 2590, 2625, 2660, 2695]\n"
     ]
    }
   ],
   "source": [
    "l = []\n",
    "for i in range(1500,2700):\n",
    "    if i%7==0 and i%5==0:\n",
    "        l.append(i)\n",
    "print(l)"
   ]
  },
  {
   "cell_type": "code",
   "execution_count": 25,
   "id": "84210d33",
   "metadata": {},
   "outputs": [
    {
     "name": "stdout",
     "output_type": "stream",
     "text": [
      "m\n",
      "om\n",
      "mom\n"
     ]
    }
   ],
   "source": [
    "a = 'mom'\n",
    "b=''\n",
    "for i in a:\n",
    "    b=i+b\n",
    "    print(b)"
   ]
  },
  {
   "cell_type": "code",
   "execution_count": 28,
   "id": "ee7fc5a7",
   "metadata": {},
   "outputs": [
    {
     "name": "stdout",
     "output_type": "stream",
     "text": [
      "even\n",
      "odd\n",
      "even\n",
      "even\n",
      "even\n",
      "even\n",
      "even\n",
      "6 1\n"
     ]
    }
   ],
   "source": [
    "a = [12,3,34,54,54,66,44]\n",
    "even = 0\n",
    "odd=0\n",
    "for i in a:\n",
    "    if i%2==0:\n",
    "        print('even')\n",
    "        even=even+1\n",
    "    else:\n",
    "        print(\"odd\")\n",
    "        odd=odd+1\n",
    "print(even,odd)"
   ]
  },
  {
   "cell_type": "code",
   "execution_count": 32,
   "id": "fbcd2805",
   "metadata": {},
   "outputs": [
    {
     "name": "stdout",
     "output_type": "stream",
     "text": [
      "1232 <class 'int'>\n",
      "55 <class 'int'>\n",
      "78778 <class 'int'>\n",
      "(1+2j) <class 'complex'>\n",
      "True <class 'bool'>\n",
      "python <class 'str'>\n",
      "html <class 'str'>\n",
      "(6, -5, 64) <class 'tuple'>\n",
      "[55, 8] <class 'list'>\n",
      "{'class': 'x', 'age': 6454} <class 'dict'>\n"
     ]
    }
   ],
   "source": [
    "# print each item and its corresponding type from a list\n",
    "\n",
    "a = [1232,55,78778,1+2j,True,'python','html',(6,-5,64),[55,8],{'class':'x',\"age\":6454}]\n",
    "\n",
    "for i in a:\n",
    "    print(i,type(i))"
   ]
  },
  {
   "cell_type": "code",
   "execution_count": 33,
   "id": "1a40860f",
   "metadata": {},
   "outputs": [
    {
     "name": "stdout",
     "output_type": "stream",
     "text": [
      "0\n",
      "1\n",
      "2\n",
      "3\n",
      "4\n",
      "5\n"
     ]
    }
   ],
   "source": [
    "for i in range(0,6):\n",
    "    print(i)"
   ]
  },
  {
   "cell_type": "code",
   "execution_count": null,
   "id": "00c91f19",
   "metadata": {},
   "outputs": [],
   "source": [
    "# genrate two dimention arrey\n",
    "row_num=int(input(\"enter the row number  \"))\n",
    "col_num=int(input(\"enter the coloum numer  \")\n"
   ]
  }
 ],
 "metadata": {
  "kernelspec": {
   "display_name": "Python 3 (ipykernel)",
   "language": "python",
   "name": "python3"
  },
  "language_info": {
   "codemirror_mode": {
    "name": "ipython",
    "version": 3
   },
   "file_extension": ".py",
   "mimetype": "text/x-python",
   "name": "python",
   "nbconvert_exporter": "python",
   "pygments_lexer": "ipython3",
   "version": "3.9.13"
  }
 },
 "nbformat": 4,
 "nbformat_minor": 5
}
